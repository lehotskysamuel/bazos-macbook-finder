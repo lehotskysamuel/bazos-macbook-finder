{
 "cells": [
  {
   "cell_type": "code",
   "execution_count": null,
   "metadata": {},
   "outputs": [],
   "source": [
    "!pip install ipykernel"
   ]
  },
  {
   "cell_type": "code",
   "execution_count": 1,
   "metadata": {},
   "outputs": [],
   "source": [
    "from bazos import main\n",
    "import pandas as pd"
   ]
  },
  {
   "cell_type": "code",
   "execution_count": 2,
   "metadata": {},
   "outputs": [],
   "source": [
    "ZIP_CODE = '10400'\n",
    "DISTANCE = '50'\n",
    "MIN_PRICE = '15000'\n",
    "MAX_PRICE = '25000'\n",
    "ADS = 20"
   ]
  },
  {
   "cell_type": "code",
   "execution_count": 3,
   "metadata": {},
   "outputs": [],
   "source": [
    "pd.set_option('display.max_columns', None)\n",
    "pd.set_option('display.expand_frame_repr', False)\n",
    "pd.set_option('max_colwidth', None)"
   ]
  },
  {
   "cell_type": "code",
   "execution_count": 4,
   "metadata": {},
   "outputs": [
    {
     "name": "stdout",
     "output_type": "stream",
     "text": [
      "https://bazos.cz/search.php?hledat=macbook&rubriky=www&hlokalita=10400&humkreis=50&cenaod=15000&cenado=25000&Submit=Hledat&kitx=ano&order=&crz=0\n",
      "--------------------------------------------------------------------------------\n",
      "Macbook Air\n",
      "          date model  year ram memory touchbar    m1   cpu                                                                                                    url Vidělo:  Cena:\n",
      "0  15.12. 2021   Air  None   8    256     None  True  None                      https://pc.bazos.cz/inzerat/145679330/apple-macbook-air-m1-v-zaruce-14-mesicu.php     183  22000\n",
      "0  15.12. 2021   Air  2019   8    256     None  True  None  https://pc.bazos.cz/inzerat/145081563/13-apple-macbook-air-i5-16ghz-retina-zaruka-1rok-model-2019.php     681  22980\n",
      "--------------------------------------------------------------------------------\n",
      "Macbook Pro\n",
      "          date model                      year ram memory touchbar     m1         cpu                                                                                                 url Vidělo:  Cena:\n",
      "0  15.12. 2021   Pro  {2016, 2017, 2019, 2018}   8    256     None  False  {2.0, 4.0}  https://pc.bazos.cz/inzerat/145719231/13-apple-macbook-pro-i5-20ghz-retina-zaruka-spaceg-256gb.php      59  17980\n",
      "0  15.12. 2021   Pro  {2016, 2017, 2019, 2018}   8    256     None  False  {2.0, 4.0}  https://pc.bazos.cz/inzerat/145080850/13-apple-macbook-pro-i5-20ghz-retina-zaruka-256gb-spaceg.php     377  17980\n"
     ]
    }
   ],
   "source": [
    "r = main(ZIP_CODE, DISTANCE, MIN_PRICE, MAX_PRICE, ADS)"
   ]
  },
  {
   "cell_type": "markdown",
   "metadata": {},
   "source": [
    "# Macbook Air M1"
   ]
  },
  {
   "cell_type": "code",
   "execution_count": 5,
   "metadata": {},
   "outputs": [
    {
     "data": {
      "text/html": [
       "<div>\n",
       "<style scoped>\n",
       "    .dataframe tbody tr th:only-of-type {\n",
       "        vertical-align: middle;\n",
       "    }\n",
       "\n",
       "    .dataframe tbody tr th {\n",
       "        vertical-align: top;\n",
       "    }\n",
       "\n",
       "    .dataframe thead th {\n",
       "        text-align: right;\n",
       "    }\n",
       "</style>\n",
       "<table border=\"1\" class=\"dataframe\">\n",
       "  <thead>\n",
       "    <tr style=\"text-align: right;\">\n",
       "      <th></th>\n",
       "      <th>date</th>\n",
       "      <th>model</th>\n",
       "      <th>year</th>\n",
       "      <th>ram</th>\n",
       "      <th>memory</th>\n",
       "      <th>touchbar</th>\n",
       "      <th>m1</th>\n",
       "      <th>cpu</th>\n",
       "      <th>url</th>\n",
       "      <th>Vidělo:</th>\n",
       "      <th>Cena:</th>\n",
       "    </tr>\n",
       "  </thead>\n",
       "  <tbody>\n",
       "    <tr>\n",
       "      <th>0</th>\n",
       "      <td>15.12. 2021</td>\n",
       "      <td>Air</td>\n",
       "      <td>None</td>\n",
       "      <td>8</td>\n",
       "      <td>256</td>\n",
       "      <td>None</td>\n",
       "      <td>True</td>\n",
       "      <td>None</td>\n",
       "      <td>https://pc.bazos.cz/inzerat/145679330/apple-macbook-air-m1-v-zaruce-14-mesicu.php</td>\n",
       "      <td>183</td>\n",
       "      <td>22000</td>\n",
       "    </tr>\n",
       "    <tr>\n",
       "      <th>0</th>\n",
       "      <td>15.12. 2021</td>\n",
       "      <td>Air</td>\n",
       "      <td>2019</td>\n",
       "      <td>8</td>\n",
       "      <td>256</td>\n",
       "      <td>None</td>\n",
       "      <td>True</td>\n",
       "      <td>None</td>\n",
       "      <td>https://pc.bazos.cz/inzerat/145081563/13-apple-macbook-air-i5-16ghz-retina-zaruka-1rok-model-2019.php</td>\n",
       "      <td>681</td>\n",
       "      <td>22980</td>\n",
       "    </tr>\n",
       "  </tbody>\n",
       "</table>\n",
       "</div>"
      ],
      "text/plain": [
       "          date model  year ram memory touchbar    m1   cpu                                                                                                    url Vidělo:  Cena:\n",
       "0  15.12. 2021   Air  None   8    256     None  True  None                      https://pc.bazos.cz/inzerat/145679330/apple-macbook-air-m1-v-zaruce-14-mesicu.php     183  22000\n",
       "0  15.12. 2021   Air  2019   8    256     None  True  None  https://pc.bazos.cz/inzerat/145081563/13-apple-macbook-air-i5-16ghz-retina-zaruka-1rok-model-2019.php     681  22980"
      ]
     },
     "execution_count": 5,
     "metadata": {},
     "output_type": "execute_result"
    }
   ],
   "source": [
    "r[0]"
   ]
  },
  {
   "cell_type": "markdown",
   "metadata": {},
   "source": [
    "# Macbook Pro"
   ]
  },
  {
   "cell_type": "code",
   "execution_count": 6,
   "metadata": {},
   "outputs": [
    {
     "data": {
      "text/html": [
       "<div>\n",
       "<style scoped>\n",
       "    .dataframe tbody tr th:only-of-type {\n",
       "        vertical-align: middle;\n",
       "    }\n",
       "\n",
       "    .dataframe tbody tr th {\n",
       "        vertical-align: top;\n",
       "    }\n",
       "\n",
       "    .dataframe thead th {\n",
       "        text-align: right;\n",
       "    }\n",
       "</style>\n",
       "<table border=\"1\" class=\"dataframe\">\n",
       "  <thead>\n",
       "    <tr style=\"text-align: right;\">\n",
       "      <th></th>\n",
       "      <th>date</th>\n",
       "      <th>model</th>\n",
       "      <th>year</th>\n",
       "      <th>ram</th>\n",
       "      <th>memory</th>\n",
       "      <th>touchbar</th>\n",
       "      <th>m1</th>\n",
       "      <th>cpu</th>\n",
       "      <th>url</th>\n",
       "      <th>Vidělo:</th>\n",
       "      <th>Cena:</th>\n",
       "    </tr>\n",
       "  </thead>\n",
       "  <tbody>\n",
       "    <tr>\n",
       "      <th>0</th>\n",
       "      <td>15.12. 2021</td>\n",
       "      <td>Pro</td>\n",
       "      <td>{2016, 2017, 2019, 2018}</td>\n",
       "      <td>8</td>\n",
       "      <td>256</td>\n",
       "      <td>None</td>\n",
       "      <td>False</td>\n",
       "      <td>{2.0, 4.0}</td>\n",
       "      <td>https://pc.bazos.cz/inzerat/145719231/13-apple-macbook-pro-i5-20ghz-retina-zaruka-spaceg-256gb.php</td>\n",
       "      <td>59</td>\n",
       "      <td>17980</td>\n",
       "    </tr>\n",
       "    <tr>\n",
       "      <th>0</th>\n",
       "      <td>15.12. 2021</td>\n",
       "      <td>Pro</td>\n",
       "      <td>{2016, 2017, 2019, 2018}</td>\n",
       "      <td>8</td>\n",
       "      <td>256</td>\n",
       "      <td>None</td>\n",
       "      <td>False</td>\n",
       "      <td>{2.0, 4.0}</td>\n",
       "      <td>https://pc.bazos.cz/inzerat/145080850/13-apple-macbook-pro-i5-20ghz-retina-zaruka-256gb-spaceg.php</td>\n",
       "      <td>377</td>\n",
       "      <td>17980</td>\n",
       "    </tr>\n",
       "  </tbody>\n",
       "</table>\n",
       "</div>"
      ],
      "text/plain": [
       "          date model                      year ram memory touchbar     m1         cpu                                                                                                 url Vidělo:  Cena:\n",
       "0  15.12. 2021   Pro  {2016, 2017, 2019, 2018}   8    256     None  False  {2.0, 4.0}  https://pc.bazos.cz/inzerat/145719231/13-apple-macbook-pro-i5-20ghz-retina-zaruka-spaceg-256gb.php      59  17980\n",
       "0  15.12. 2021   Pro  {2016, 2017, 2019, 2018}   8    256     None  False  {2.0, 4.0}  https://pc.bazos.cz/inzerat/145080850/13-apple-macbook-pro-i5-20ghz-retina-zaruka-256gb-spaceg.php     377  17980"
      ]
     },
     "execution_count": 6,
     "metadata": {},
     "output_type": "execute_result"
    }
   ],
   "source": [
    "r[1]"
   ]
  },
  {
   "cell_type": "code",
   "execution_count": null,
   "metadata": {},
   "outputs": [],
   "source": []
  }
 ],
 "metadata": {
  "interpreter": {
   "hash": "640009e82ad6d4e631cbdf10bf0c7af17dadd7f435ecc934f544f2dace7fbcc0"
  },
  "kernelspec": {
   "display_name": "Python 3.9.5 64-bit",
   "language": "python",
   "name": "python3"
  },
  "language_info": {
   "codemirror_mode": {
    "name": "ipython",
    "version": 3
   },
   "file_extension": ".py",
   "mimetype": "text/x-python",
   "name": "python",
   "nbconvert_exporter": "python",
   "pygments_lexer": "ipython3",
   "version": "3.9.5"
  },
  "orig_nbformat": 4
 },
 "nbformat": 4,
 "nbformat_minor": 2
}
